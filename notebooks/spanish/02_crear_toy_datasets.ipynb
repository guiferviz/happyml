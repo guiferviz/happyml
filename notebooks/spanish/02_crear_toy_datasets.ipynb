{
 "cells": [
  {
   "cell_type": "markdown",
   "metadata": {},
   "source": [
    "# Crear *toy datasets*"
   ]
  },
  {
   "cell_type": "markdown",
   "metadata": {},
   "source": [
    "Ya poseemos la forma de cargar datasets a partir de ficheros de texto (CSV, TSV o cualquier \\*SV). Muchas veces vamos a querer crear pequeños datasets de juguete para poner a prueba nuestros algoritmos. Crearlos escribiendo números en un fichero de texto puede llegar a ser muy tedioso. Para ello, en este capítulo nos dedicaremos a ver el funcionamiento de la herramienta *happy_data_creator*.\n",
    "\n",
    "Es una buena práctica desarrollar un script como el que se encuentra a continuación debido a que nos ayuda a comprender mejor el funcionamiento de matplotlib."
   ]
  },
  {
   "cell_type": "markdown",
   "metadata": {},
   "source": [
    "![SmileDataset](../resources/smile.png)"
   ]
  },
  {
   "cell_type": "code",
   "execution_count": null,
   "metadata": {
    "collapsed": true
   },
   "outputs": [],
   "source": []
  }
 ],
 "metadata": {
  "kernelspec": {
   "display_name": "Python 2",
   "language": "python",
   "name": "python2"
  },
  "language_info": {
   "codemirror_mode": {
    "name": "ipython",
    "version": 2
   },
   "file_extension": ".py",
   "mimetype": "text/x-python",
   "name": "python",
   "nbconvert_exporter": "python",
   "pygments_lexer": "ipython2",
   "version": "2.7.6"
  }
 },
 "nbformat": 4,
 "nbformat_minor": 0
}
